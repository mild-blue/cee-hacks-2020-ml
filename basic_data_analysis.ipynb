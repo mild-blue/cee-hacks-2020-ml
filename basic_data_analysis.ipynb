{
 "cells": [
  {
   "cell_type": "code",
   "execution_count": null,
   "metadata": {},
   "outputs": [],
   "source": [
    "import pandas as pd\n",
    "import sklearn\n",
    "import scipy\n",
    "import matplotlib.pyplot as plt\n",
    "from scipy import stats\n",
    "\n",
    "import os\n",
    "\n",
    "import numpy as np"
   ]
  },
  {
   "cell_type": "code",
   "execution_count": null,
   "metadata": {},
   "outputs": [],
   "source": [
    "data_location = os.path.normpath('../data')\n",
    "\n",
    "data_filename = \"hackathon_low_mixed_venous_oximetry.csv\"\n",
    "# data_filename = \"hackathon_low_cardiac_output.csv\"\n",
    "\n",
    "file = os.path.join(data_location, data_filename)"
   ]
  },
  {
   "cell_type": "code",
   "execution_count": null,
   "metadata": {},
   "outputs": [],
   "source": [
    "feature_columns = [\n",
    "    'Heart_Rate', 'Ejection_Fraction',\n",
    "       'Radial_Artery_Mean_Pressure', 'Radial_Artery_Systolic_Pressure',\n",
    "       'Radial_Artery_Diastolic_Pressure', 'Radial_Artery_DpDt',\n",
    "       'Pulmonary_Artery_Mean_Pressure', 'Central_Venous_Pressure', 'gender',\n",
    "       'age_years', 'bsa', 'height', 'weight'\n",
    "]\n",
    "\n",
    "if 'cardiac_output' in file:\n",
    "    feature_columns += ['SvO2']\n",
    "    regression_label = \"RegressionLabel-CardiacIndex\"\n",
    "else:\n",
    "\n",
    "    feature_columns += ['Cardiac_Output']\n",
    "    regression_label = \"RegressionLabel-SvO2\""
   ]
  },
  {
   "cell_type": "code",
   "execution_count": null,
   "metadata": {},
   "outputs": [],
   "source": [
    "df = (\n",
    "    pd.read_csv(file, usecols=feature_columns)\n",
    "   .dropna()\n",
    ")\n",
    "print(\"data size:\", len(df))"
   ]
  },
  {
   "cell_type": "code",
   "execution_count": null,
   "metadata": {
    "scrolled": false
   },
   "outputs": [],
   "source": [
    "for col in feature_columns:\n",
    "    print(col)\n",
    "    df[col].hist(bins=20)\n",
    "    plt.show()"
   ]
  },
  {
   "cell_type": "markdown",
   "metadata": {},
   "source": [
    "\n",
    "# Pressure visualization"
   ]
  },
  {
   "cell_type": "code",
   "execution_count": null,
   "metadata": {},
   "outputs": [],
   "source": [
    "pressure_columns = [col for col in feature_columns if \"Pressure\" in col]\n",
    "print(\"Columns: \", pressure_columns)\n",
    "\n",
    "pressure_df = pd.DataFrame(df, \n",
    "    columns = pressure_columns)\n",
    "\n",
    "print(\"samples:\", len(pressure_df))\n",
    "\n",
    "pressure_df.plot()\n",
    "\n",
    "pressure_df.corr(method='pearson')"
   ]
  },
  {
   "cell_type": "markdown",
   "metadata": {},
   "source": [
    "# Outliers"
   ]
  },
  {
   "cell_type": "code",
   "execution_count": null,
   "metadata": {},
   "outputs": [],
   "source": [
    "filtered = pd.DataFrame([(np.abs(stats.zscore(pressure_df)) < 3).all(axis=1)])\n",
    "\n",
    "filtered.plot()\n",
    "\n",
    "filtered.corr(method='pearson')"
   ]
  },
  {
   "cell_type": "markdown",
   "metadata": {},
   "source": [
    "# Correlation matrix"
   ]
  },
  {
   "cell_type": "code",
   "execution_count": null,
   "metadata": {},
   "outputs": [],
   "source": [
    "df.corr(method='pearson')"
   ]
  }
 ],
 "metadata": {
  "kernelspec": {
   "display_name": "Python 3",
   "language": "python",
   "name": "python3"
  },
  "language_info": {
   "codemirror_mode": {
    "name": "ipython",
    "version": 3
   },
   "file_extension": ".py",
   "mimetype": "text/x-python",
   "name": "python",
   "nbconvert_exporter": "python",
   "pygments_lexer": "ipython3",
   "version": "3.7.2"
  }
 },
 "nbformat": 4,
 "nbformat_minor": 4
}
