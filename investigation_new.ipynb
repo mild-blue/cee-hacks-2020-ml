{
 "cells": [
  {
   "cell_type": "code",
   "execution_count": null,
   "metadata": {
    "hideCode": false,
    "hidePrompt": false
   },
   "outputs": [],
   "source": [
    "import pandas as pd\n",
    "import sklearn\n",
    "import scipy\n",
    "import matplotlib.pyplot as plt"
   ]
  },
  {
   "cell_type": "code",
   "execution_count": null,
   "metadata": {
    "hideCode": false,
    "hidePrompt": false
   },
   "outputs": [],
   "source": [
    "import os"
   ]
  },
  {
   "cell_type": "code",
   "execution_count": null,
   "metadata": {
    "hideCode": false,
    "hidePrompt": false
   },
   "outputs": [],
   "source": [
    "data_location = os.path.normpath('../data')"
   ]
  },
  {
   "cell_type": "code",
   "execution_count": null,
   "metadata": {
    "hideCode": false,
    "hidePrompt": false
   },
   "outputs": [],
   "source": [
    "file = os.path.join(data_location, \"hackathon_low_mixed_venous_oximetry.csv\")\n",
    "# file = os.path.join(data_location, \"hackathon_low_cardiac_output.csv\")"
   ]
  },
  {
   "cell_type": "code",
   "execution_count": null,
   "metadata": {
    "hideCode": false,
    "hidePrompt": false
   },
   "outputs": [],
   "source": [
    "feature_columns = [col for col in df.columns if col not in [\"event_count\",\n",
    "                                                            \"ClassificationLabel\",\n",
    "                                                           \"subject_id\"]  and \"Regression\" not in col]\n",
    "\n",
    "if 'cardiac_output' in file:\n",
    "    regression_label = \"RegressionLabel-CardiacIndex\"\n",
    "else:\n",
    "    regression_label = \"RegressionLabel-SvO2\""
   ]
  },
  {
   "cell_type": "markdown",
   "metadata": {
    "hideCode": false,
    "hidePrompt": false
   },
   "source": [
    "# investigations"
   ]
  },
  {
   "cell_type": "code",
   "execution_count": null,
   "metadata": {
    "hideCode": false,
    "hidePrompt": false
   },
   "outputs": [],
   "source": [
    "df = (\n",
    "    pd.read_csv(file)\n",
    ")\n",
    "df.groupby(\"subject_id\").count().event_count.value_counts()\n",
    "df.isna().sum(axis=1).value_counts()"
   ]
  },
  {
   "cell_type": "markdown",
   "metadata": {
    "hideCode": false,
    "hidePrompt": false
   },
   "source": [
    "# Preprocessing"
   ]
  },
  {
   "cell_type": "code",
   "execution_count": null,
   "metadata": {
    "hideCode": false,
    "hidePrompt": false
   },
   "outputs": [],
   "source": [
    "df = (\n",
    "    pd.read_csv(file)\n",
    ")\n",
    "\n",
    "df = (\n",
    "    df\n",
    "    .assign(ClassificationLabel = df.ClassificationLabel==\"Positive\")\n",
    "    .assign(gender=df.gender==\"F\")\n",
    "    .loc[lambda df: ~df.gender]\n",
    ")\n",
    "\n",
    "\n",
    "means = df[feature_columns+[\"subject_id\"]].groupby(\"subject_id\").mean()\n",
    "\n",
    "to_drop = []\n",
    "for row_id, row in df.iterrows():\n",
    "    for col, elem in row.items():\n",
    "        if pd.isna(elem):\n",
    "            new = means.loc[row.subject_id, col]\n",
    "            if pd.isna(new):\n",
    "                to_drop.append(row_id)\n",
    "            else:    \n",
    "                df.loc[row_id, col] = new\n",
    "\n",
    "df = df.loc[lambda df: ~df.index.isin(to_drop)]\n",
    "                \n",
    "# for col in feature_columns:\n",
    "#     df[col].fillna(df[col].mean(), inplace=True)"
   ]
  },
  {
   "cell_type": "code",
   "execution_count": null,
   "metadata": {
    "hideCode": false,
    "hidePrompt": false
   },
   "outputs": [],
   "source": [
    "import sklearn.covariance\n",
    "env = sklearn.covariance.EllipticEnvelope()\n",
    "\n",
    "env.fit(df[feature_columns].values)\n",
    "\n",
    "outliers = env.predict(df[feature_columns].values)\n",
    "sum(outliers==-1)\n",
    "df = df.loc[outliers==1]\n",
    "\n",
    "\n",
    "len(df)"
   ]
  },
  {
   "cell_type": "code",
   "execution_count": null,
   "metadata": {
    "hideCode": false,
    "hidePrompt": false
   },
   "outputs": [],
   "source": [
    "for col in feature_columns:\n",
    "    print(col)\n",
    "    if col != 'gender':\n",
    "        df[col].hist(bins=20)\n",
    "        plt.show()"
   ]
  },
  {
   "cell_type": "markdown",
   "metadata": {
    "hideCode": false,
    "hidePrompt": false
   },
   "source": [
    "# Train test split"
   ]
  },
  {
   "cell_type": "code",
   "execution_count": null,
   "metadata": {
    "hideCode": false,
    "hidePrompt": false
   },
   "outputs": [],
   "source": [
    "subjects = list(set(df.subject_id))\n",
    "N = int(len(subjects)/3*2)\n",
    "train_subjects = subjects[:N]\n",
    "test_subjects = subjects[N:]\n",
    "\n",
    "\n",
    "\n",
    "df_train=df.loc[df.subject_id.isin(train_subjects)]\n",
    "df_test=df.loc[df.subject_id.isin(test_subjects)]\n",
    "\n",
    "print(len(df_test))\n",
    "print(len(df_train))"
   ]
  },
  {
   "cell_type": "markdown",
   "metadata": {
    "hideCode": false,
    "hidePrompt": false
   },
   "source": [
    "# Classification"
   ]
  },
  {
   "cell_type": "code",
   "execution_count": null,
   "metadata": {
    "hideCode": false,
    "hidePrompt": false
   },
   "outputs": [],
   "source": [
    "from sklearn.model_selection import train_test_split\n",
    "X = df_train[feature_columns].values\n",
    "y = df_train.ClassificationLabel\n",
    "\n",
    "X_test = df_test[feature_columns].values\n",
    "y_test = df_test.ClassificationLabel"
   ]
  },
  {
   "cell_type": "code",
   "execution_count": null,
   "metadata": {
    "hideCode": false,
    "hidePrompt": false
   },
   "outputs": [],
   "source": [
    "from sklearn import tree\n",
    "clf = tree.DecisionTreeClassifier(max_depth=2)\n",
    "clf = sklearn.ensemble.GradientBoostingClassifier()\n",
    "clf = clf.fit(X,y)"
   ]
  },
  {
   "cell_type": "code",
   "execution_count": null,
   "metadata": {
    "hideCode": false,
    "hidePrompt": false
   },
   "outputs": [],
   "source": [
    "# fig = plt.figure(figsize=(25,20))\n",
    "# _ = tree.plot_tree(clf)"
   ]
  },
  {
   "cell_type": "code",
   "execution_count": null,
   "metadata": {
    "hideCode": false,
    "hidePrompt": false
   },
   "outputs": [],
   "source": [
    "y_test_predict = clf.predict(X_test)"
   ]
  },
  {
   "cell_type": "code",
   "execution_count": null,
   "metadata": {
    "hideCode": false,
    "hidePrompt": false
   },
   "outputs": [],
   "source": [
    "import sklearn.metrics as metrics\n",
    "conf_matrix = metrics.confusion_matrix(y_test, y_test_predict)\n",
    "pd.DataFrame(conf_matrix,\n",
    "            index=[f\"label_{i}\" for i in range(0, max(y_test)+1)],\n",
    "            columns=[f\"pred_{i}\" for i in range(0, max(y_test)+1)])"
   ]
  },
  {
   "cell_type": "markdown",
   "metadata": {
    "hideCode": false,
    "hidePrompt": false
   },
   "source": [
    "# Regression"
   ]
  },
  {
   "cell_type": "code",
   "execution_count": null,
   "metadata": {
    "hideCode": false,
    "hidePrompt": false
   },
   "outputs": [],
   "source": [
    "from sklearn.model_selection import train_test_split\n",
    "X = df_train[feature_columns].values\n",
    "y = df_train[regression_label]\n",
    "\n",
    "X_test = df_test[feature_columns].values\n",
    "y_test = df_test[regression_label]"
   ]
  },
  {
   "cell_type": "code",
   "execution_count": null,
   "metadata": {
    "hideCode": false,
    "hidePrompt": false
   },
   "outputs": [],
   "source": [
    "clf = sklearn.linear_model.Lasso(alpha=0.1, fit_intercept=True,\n",
    "                                 normalize=True, precompute=False, copy_X=True,\n",
    "                                 max_iter=1000, tol=0.0001, warm_start=False,\n",
    "                                 positive=False, random_state=True, selection='cyclic')\n",
    "\n",
    "# clf = sklearn.linear_model.LinearRegression()\n",
    "# from sklearn.ensemble import GradientBoostingRegressor\n",
    "# clf = GradientBoostingRegressor()\n",
    "\n",
    "\n",
    "# clf = sklearn.svm.SVR()"
   ]
  },
  {
   "cell_type": "code",
   "execution_count": null,
   "metadata": {
    "hideCode": false,
    "hidePrompt": false
   },
   "outputs": [],
   "source": [
    "clf.fit(X,y)\n",
    "y_pred = clf.predict(X)"
   ]
  },
  {
   "cell_type": "code",
   "execution_count": null,
   "metadata": {
    "hideCode": false,
    "hidePrompt": false
   },
   "outputs": [],
   "source": [
    "clf.fit(X,y)\n",
    "y_pred = clf.predict(X_test)"
   ]
  },
  {
   "cell_type": "code",
   "execution_count": null,
   "metadata": {
    "hideCode": false,
    "hidePrompt": false
   },
   "outputs": [],
   "source": [
    "sklearn.metrics.mean_squared_error(y_test, y_pred)"
   ]
  },
  {
   "cell_type": "code",
   "execution_count": null,
   "metadata": {
    "hideCode": false,
    "hidePrompt": false
   },
   "outputs": [],
   "source": [
    "plt.scatter(y_test, y_pred)"
   ]
  },
  {
   "cell_type": "markdown",
   "metadata": {
    "hideCode": false,
    "hidePrompt": false
   },
   "source": [
    "# Dimensionality Reduction"
   ]
  },
  {
   "cell_type": "code",
   "execution_count": null,
   "metadata": {
    "hideCode": false,
    "hidePrompt": false
   },
   "outputs": [],
   "source": [
    "from sklearn.decomposition import PCA\n",
    "from sklearn.preprocessing import MinMaxScaler\n",
    "import sklearn.manifold"
   ]
  },
  {
   "cell_type": "code",
   "execution_count": null,
   "metadata": {
    "hideCode": false,
    "hidePrompt": false
   },
   "outputs": [],
   "source": [
    "pca = PCA(n_components=3)\n",
    "pca = sklearn.manifold.TSNE(n_components=3)\n",
    "\n",
    "scaler = MinMaxScaler()\n",
    "scaler.fit(X)\n",
    "X_normalized = scaler.transform(X)\n",
    "\n",
    "pca.fit(X_normalized)"
   ]
  },
  {
   "cell_type": "code",
   "execution_count": null,
   "metadata": {
    "hideCode": false,
    "hidePrompt": false
   },
   "outputs": [],
   "source": [
    "# import numpy as np\n",
    "# np.argmax(pca.components_[0])"
   ]
  },
  {
   "cell_type": "code",
   "execution_count": null,
   "metadata": {
    "hideCode": false,
    "hidePrompt": false
   },
   "outputs": [],
   "source": [
    "X_pca = pca.fit_transform(X_normalized)\n",
    "\n",
    "xx = X_pca[:,1]\n",
    "yy = X_pca[:,2]\n",
    "plt.scatter(xx,yy)"
   ]
  },
  {
   "cell_type": "code",
   "execution_count": null,
   "metadata": {
    "hideCode": false,
    "hidePrompt": false
   },
   "outputs": [],
   "source": [
    "xx = X_pca[:,0]\n",
    "yy = X_pca[:,1]\n",
    "plt.scatter(xx,yy)"
   ]
  },
  {
   "cell_type": "code",
   "execution_count": null,
   "metadata": {
    "hideCode": false,
    "hidePrompt": false
   },
   "outputs": [],
   "source": []
  }
 ],
 "metadata": {
  "hide_code_all_hidden": false,
  "hide_input": false,
  "kernelspec": {
   "display_name": "Python [conda env:cee-hacks-ml]",
   "language": "python",
   "name": "conda-env-cee-hacks-ml-py"
  },
  "language_info": {
   "codemirror_mode": {
    "name": "ipython",
    "version": 3
   },
   "file_extension": ".py",
   "mimetype": "text/x-python",
   "name": "python",
   "nbconvert_exporter": "python",
   "pygments_lexer": "ipython3",
   "version": "3.9.0"
  },
  "toc": {
   "base_numbering": 1,
   "nav_menu": {},
   "number_sections": true,
   "sideBar": true,
   "skip_h1_title": false,
   "title_cell": "Table of Contents",
   "title_sidebar": "Contents",
   "toc_cell": false,
   "toc_position": {},
   "toc_section_display": true,
   "toc_window_display": false
  },
  "varInspector": {
   "cols": {
    "lenName": 16,
    "lenType": 16,
    "lenVar": 40
   },
   "kernels_config": {
    "python": {
     "delete_cmd_postfix": "",
     "delete_cmd_prefix": "del ",
     "library": "var_list.py",
     "varRefreshCmd": "print(var_dic_list())"
    },
    "r": {
     "delete_cmd_postfix": ") ",
     "delete_cmd_prefix": "rm(",
     "library": "var_list.r",
     "varRefreshCmd": "cat(var_dic_list()) "
    }
   },
   "types_to_exclude": [
    "module",
    "function",
    "builtin_function_or_method",
    "instance",
    "_Feature"
   ],
   "window_display": false
  }
 },
 "nbformat": 4,
 "nbformat_minor": 4
}
